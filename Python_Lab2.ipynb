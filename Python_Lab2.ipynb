{
 "cells": [
  {
   "cell_type": "code",
   "execution_count": 1,
   "id": "55cadbdc",
   "metadata": {},
   "outputs": [
    {
     "name": "stdout",
     "output_type": "stream",
     "text": [
      "Press enter to roll dice \n",
      "\n",
      "17\n",
      "18\n",
      "oops, you lose\n",
      "Do you want to roll again?y\n"
     ]
    }
   ],
   "source": [
    "import random\n",
    "\n",
    "Keep_playing = \"yes\"\n",
    "\n",
    "while (Keep_playing == \"yes\") :\n",
    "\n",
    "    computer_wins = 0\n",
    "    user_wins = 0\n",
    "    tie = 0\n",
    "    print(\"Press enter to roll dice \")\n",
    "    input()\n",
    "    user_roll = random.randint(1,6) + random.randint(1,6) + random.randint(1,6) + random.randint(1,6) + random.randint(1,6)\n",
    "    computer_roll = random.randint(1,6) + random.randint(1,6) + random.randint(1,6) + random.randint(1,6) + random.randint(1,6)\n",
    "    print(user_roll)\n",
    "    print(computer_roll)\n",
    "\n",
    "    if ( computer_roll < user_roll) :\n",
    "        print( \"Congrats, you win!\")\n",
    "        user_wins = user_wins+1 \n",
    "    elif ( computer_roll > user_roll): \n",
    "        print (\"oops, you lose\") \n",
    "        computer_wins = computer_wins+1\n",
    "    else: \n",
    "        print(\"its a tie!\") \n",
    "        tie = tie+1 \n",
    "\n",
    "    Keep_playing  = input(\"Do you want to roll again?\") \n",
    "\n",
    "if (Keep_playing == \"no\"):\n",
    "    print(\"Computer wins \", computer_wins)\n",
    "    print(\"User wins \", user_wins )\n",
    "    print(\"ties \", tie)\n",
    "    \n",
    "    \n"
   ]
  },
  {
   "cell_type": "code",
   "execution_count": null,
   "id": "6d6c14b9",
   "metadata": {},
   "outputs": [],
   "source": []
  }
 ],
 "metadata": {
  "kernelspec": {
   "display_name": "Python 3 (ipykernel)",
   "language": "python",
   "name": "python3"
  },
  "language_info": {
   "codemirror_mode": {
    "name": "ipython",
    "version": 3
   },
   "file_extension": ".py",
   "mimetype": "text/x-python",
   "name": "python",
   "nbconvert_exporter": "python",
   "pygments_lexer": "ipython3",
   "version": "3.11.5"
  }
 },
 "nbformat": 4,
 "nbformat_minor": 5
}
